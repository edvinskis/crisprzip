{
 "cells": [
  {
   "cell_type": "code",
   "metadata": {
    "collapsed": true,
    "ExecuteTime": {
     "end_time": "2025-02-18T15:20:01.756782Z",
     "start_time": "2025-02-18T15:20:00.999733Z"
    }
   },
   "source": "from crisprzip.kinetics import *",
   "outputs": [],
   "execution_count": 1
  },
  {
   "cell_type": "code",
   "source": [
    "searcher = load_landscape(\"sequence_params\")\n",
    "searchertargetcomplex = searcher.probe_sequence(\n",
    "    protospacer = \"AGACGCATAAAGATGAGACGCTGG\",\n",
    "    target_seq  = \"AGACCCATTAAGATGAGACGCGGG\",  # A13T G17C\n",
    ")"
   ],
   "metadata": {
    "collapsed": false,
    "ExecuteTime": {
     "end_time": "2025-02-18T15:20:01.768671Z",
     "start_time": "2025-02-18T15:20:01.760824Z"
    }
   },
   "outputs": [],
   "execution_count": 2
  },
  {
   "cell_type": "code",
   "source": [
    "f_clv = searchertargetcomplex.get_cleaved_fraction(\n",
    "    time=600, # 10 minutes\n",
    "    on_rate=1E-1\n",
    ")\n",
    "f_bnd = searchertargetcomplex.get_bound_fraction(\n",
    "    time=600, # 10 minutes\n",
    "    on_rate=1E-1\n",
    ")\n",
    "\n",
    "print(f\"After 10 minutes, the target (A13T G17C) is ...\")\n",
    "print(f\"- cleaved for {100*f_clv:.1f}% by Cas9\")\n",
    "print(f\"    or  \")\n",
    "print(f\"- bound for {100*f_bnd:.1f}% by dCas9\")"
   ],
   "metadata": {
    "collapsed": false,
    "ExecuteTime": {
     "end_time": "2025-02-18T15:20:04.708956Z",
     "start_time": "2025-02-18T15:20:01.924334Z"
    }
   },
   "outputs": [
    {
     "name": "stdout",
     "output_type": "stream",
     "text": [
      "After 10 minutes, the target (A13T G17C) is ...\n",
      "- cleaved for 10.5% by Cas9\n",
      "    or  \n",
      "- bound for 94.2% by dCas9\n"
     ]
    }
   ],
   "execution_count": 3
  }
 ],
 "metadata": {
  "kernelspec": {
   "display_name": "Python 3",
   "language": "python",
   "name": "python3"
  },
  "language_info": {
   "codemirror_mode": {
    "name": "ipython",
    "version": 2
   },
   "file_extension": ".py",
   "mimetype": "text/x-python",
   "name": "python",
   "nbconvert_exporter": "python",
   "pygments_lexer": "ipython2",
   "version": "2.7.6"
  }
 },
 "nbformat": 4,
 "nbformat_minor": 0
}
